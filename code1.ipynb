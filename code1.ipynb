{
 "cells": [
  {
   "cell_type": "code",
   "execution_count": 48,
   "id": "505d01d6",
   "metadata": {},
   "outputs": [],
   "source": [
    "import os\n",
    "import pandas as pd\n",
    "from sklearn.model_selection import RandomizedSearchCV\n",
    "from scipy.stats import uniform\n",
    "from scipy.stats import randint\n",
    "import numpy as np\n",
    "import requests\n",
    "from datetime import datetime\n",
    "from dateutil.relativedelta import relativedelta\n",
    "from bs4 import BeautifulSoup\n",
    "import matplotlib.pyplot as plt\n",
    "import seaborn as sns\n",
    "from statsmodels.stats.power import TTestIndPower\n",
    "from sklearn.metrics import mean_squared_error, mean_absolute_percentage_error, precision_recall_curve, auc, roc_curve\n",
    "from sklearn.ensemble import RandomForestRegressor, HistGradientBoostingRegressor\n",
    "sns.set()\n",
    "from scipy import stats\n",
    "from scipy import special\n",
    "from sklearn.model_selection import train_test_split\n",
    "import warnings\n",
    "warnings.filterwarnings(\"ignore\")\n",
    "v=10996179\n",
    "np.random.seed(v)"
   ]
  },
  {
   "cell_type": "code",
   "execution_count": 2,
   "id": "710c398a",
   "metadata": {},
   "outputs": [
    {
     "data": {
      "text/html": [
       "<div>\n",
       "<style scoped>\n",
       "    .dataframe tbody tr th:only-of-type {\n",
       "        vertical-align: middle;\n",
       "    }\n",
       "\n",
       "    .dataframe tbody tr th {\n",
       "        vertical-align: top;\n",
       "    }\n",
       "\n",
       "    .dataframe thead th {\n",
       "        text-align: right;\n",
       "    }\n",
       "</style>\n",
       "<table border=\"1\" class=\"dataframe\">\n",
       "  <thead>\n",
       "    <tr style=\"text-align: right;\">\n",
       "      <th></th>\n",
       "      <th>fide_id</th>\n",
       "      <th>country</th>\n",
       "      <th>name</th>\n",
       "      <th>flag</th>\n",
       "      <th>Ratings_nov22</th>\n",
       "      <th>Games_nov22</th>\n",
       "      <th>Title_nov22</th>\n",
       "      <th>Ratings_aug12</th>\n",
       "      <th>Games_aug12</th>\n",
       "      <th>Title_aug12</th>\n",
       "      <th>...</th>\n",
       "      <th>Title_apr20</th>\n",
       "      <th>Ratings_JUL06</th>\n",
       "      <th>Games_JUL06</th>\n",
       "      <th>Title_JUL06</th>\n",
       "      <th>Ratings_jul12</th>\n",
       "      <th>Games_jul12</th>\n",
       "      <th>Title_jul12</th>\n",
       "      <th>Dob</th>\n",
       "      <th>Country Code</th>\n",
       "      <th>mean</th>\n",
       "    </tr>\n",
       "  </thead>\n",
       "  <tbody>\n",
       "    <tr>\n",
       "      <th>0</th>\n",
       "      <td>8519790</td>\n",
       "      <td>NaN</td>\n",
       "      <td>NGR M</td>\n",
       "      <td>NaN</td>\n",
       "      <td>1834</td>\n",
       "      <td>0</td>\n",
       "      <td>NaN</td>\n",
       "      <td>NaN</td>\n",
       "      <td>NaN</td>\n",
       "      <td>NaN</td>\n",
       "      <td>...</td>\n",
       "      <td>NaN</td>\n",
       "      <td>NaN</td>\n",
       "      <td>NaN</td>\n",
       "      <td>NaN</td>\n",
       "      <td>NaN</td>\n",
       "      <td>NaN</td>\n",
       "      <td>NaN</td>\n",
       "      <td>0</td>\n",
       "      <td>NaN</td>\n",
       "      <td>NaN</td>\n",
       "    </tr>\n",
       "    <tr>\n",
       "      <th>1</th>\n",
       "      <td>25121731</td>\n",
       "      <td>IND</td>\n",
       "      <td>A C J John</td>\n",
       "      <td>i</td>\n",
       "      <td>1063</td>\n",
       "      <td>0</td>\n",
       "      <td>NaN</td>\n",
       "      <td>NaN</td>\n",
       "      <td>NaN</td>\n",
       "      <td>NaN</td>\n",
       "      <td>...</td>\n",
       "      <td>NaN</td>\n",
       "      <td>NaN</td>\n",
       "      <td>NaN</td>\n",
       "      <td>NaN</td>\n",
       "      <td>NaN</td>\n",
       "      <td>NaN</td>\n",
       "      <td>NaN</td>\n",
       "      <td>1987</td>\n",
       "      <td>IND</td>\n",
       "      <td>602.633167</td>\n",
       "    </tr>\n",
       "    <tr>\n",
       "      <th>2</th>\n",
       "      <td>35077023</td>\n",
       "      <td>IND</td>\n",
       "      <td>A Chakravarthy</td>\n",
       "      <td>i</td>\n",
       "      <td>1151</td>\n",
       "      <td>0</td>\n",
       "      <td>NaN</td>\n",
       "      <td>NaN</td>\n",
       "      <td>NaN</td>\n",
       "      <td>NaN</td>\n",
       "      <td>...</td>\n",
       "      <td>NaN</td>\n",
       "      <td>NaN</td>\n",
       "      <td>NaN</td>\n",
       "      <td>NaN</td>\n",
       "      <td>NaN</td>\n",
       "      <td>NaN</td>\n",
       "      <td>NaN</td>\n",
       "      <td>1986</td>\n",
       "      <td>IND</td>\n",
       "      <td>602.633167</td>\n",
       "    </tr>\n",
       "    <tr>\n",
       "      <th>3</th>\n",
       "      <td>10207538</td>\n",
       "      <td>BAN</td>\n",
       "      <td>A E M, Doshtagir</td>\n",
       "      <td>i</td>\n",
       "      <td>1840</td>\n",
       "      <td>0</td>\n",
       "      <td>NaN</td>\n",
       "      <td>1864.0</td>\n",
       "      <td>0.0</td>\n",
       "      <td>NaN</td>\n",
       "      <td>...</td>\n",
       "      <td>NaN</td>\n",
       "      <td>NaN</td>\n",
       "      <td>NaN</td>\n",
       "      <td>NaN</td>\n",
       "      <td>1864.0</td>\n",
       "      <td>0.0</td>\n",
       "      <td>NaN</td>\n",
       "      <td>1974</td>\n",
       "      <td>NaN</td>\n",
       "      <td>NaN</td>\n",
       "    </tr>\n",
       "    <tr>\n",
       "      <th>4</th>\n",
       "      <td>10680810</td>\n",
       "      <td>EGY</td>\n",
       "      <td>A hamed Ashraf, Abdallah</td>\n",
       "      <td>i</td>\n",
       "      <td>1728</td>\n",
       "      <td>0</td>\n",
       "      <td>NaN</td>\n",
       "      <td>NaN</td>\n",
       "      <td>NaN</td>\n",
       "      <td>NaN</td>\n",
       "      <td>...</td>\n",
       "      <td>NaN</td>\n",
       "      <td>NaN</td>\n",
       "      <td>NaN</td>\n",
       "      <td>NaN</td>\n",
       "      <td>NaN</td>\n",
       "      <td>NaN</td>\n",
       "      <td>NaN</td>\n",
       "      <td>2001</td>\n",
       "      <td>EGY</td>\n",
       "      <td>1279.448386</td>\n",
       "    </tr>\n",
       "  </tbody>\n",
       "</table>\n",
       "<p>5 rows × 538 columns</p>\n",
       "</div>"
      ],
      "text/plain": [
       "    fide_id country                      name flag  Ratings_nov22  \\\n",
       "0   8519790     NaN                     NGR M  NaN           1834   \n",
       "1  25121731     IND                A C J John    i           1063   \n",
       "2  35077023     IND            A Chakravarthy    i           1151   \n",
       "3  10207538     BAN          A E M, Doshtagir    i           1840   \n",
       "4  10680810     EGY  A hamed Ashraf, Abdallah    i           1728   \n",
       "\n",
       "   Games_nov22 Title_nov22  Ratings_aug12 Games_aug12 Title_aug12  ...  \\\n",
       "0            0         NaN            NaN         NaN         NaN  ...   \n",
       "1            0         NaN            NaN         NaN         NaN  ...   \n",
       "2            0         NaN            NaN         NaN         NaN  ...   \n",
       "3            0         NaN         1864.0         0.0         NaN  ...   \n",
       "4            0         NaN            NaN         NaN         NaN  ...   \n",
       "\n",
       "   Title_apr20  Ratings_JUL06 Games_JUL06  Title_JUL06  Ratings_jul12  \\\n",
       "0          NaN            NaN         NaN          NaN            NaN   \n",
       "1          NaN            NaN         NaN          NaN            NaN   \n",
       "2          NaN            NaN         NaN          NaN            NaN   \n",
       "3          NaN            NaN         NaN          NaN         1864.0   \n",
       "4          NaN            NaN         NaN          NaN            NaN   \n",
       "\n",
       "  Games_jul12  Title_jul12   Dob Country Code         mean  \n",
       "0         NaN          NaN     0          NaN          NaN  \n",
       "1         NaN          NaN  1987          IND   602.633167  \n",
       "2         NaN          NaN  1986          IND   602.633167  \n",
       "3         0.0          NaN  1974          NaN          NaN  \n",
       "4         NaN          NaN  2001          EGY  1279.448386  \n",
       "\n",
       "[5 rows x 538 columns]"
      ]
     },
     "execution_count": 2,
     "metadata": {},
     "output_type": "execute_result"
    }
   ],
   "source": [
    "# Importing data and adding GDP column to it\n",
    "df_overall = pd.read_csv(\"df_combined.csv\")\n",
    "gdp=pd.read_excel('GDP_per_capita.xlsx')\n",
    "gdp['mean']=gdp.iloc[:, 1:].mean(axis=1)\n",
    "df_overall=pd.merge(df_overall, gdp.iloc[:, [0,-1]], how='left', left_on=['country'], right_on=['Country Code'])\n",
    "df_overall.head()"
   ]
  },
  {
   "cell_type": "code",
   "execution_count": 3,
   "id": "3303d6c2",
   "metadata": {},
   "outputs": [],
   "source": [
    "# Creating Age columns for users by month\n",
    "col=df_overall.columns\n",
    "col=np.array(col)\n",
    "\n",
    "yr=list([])\n",
    "yr1=list([])\n",
    "mth=list([])\n",
    "for  i in col:\n",
    "    if 'Ratings_' in i:\n",
    "        yr.append(i[-2:])\n",
    "        yr1.append(int('20' + i[-2:]))\n",
    "        mth.append(i[-5:-2])\n",
    "\n",
    "\n",
    "month=list([])\n",
    "for i in range(len(mth)):\n",
    "    mname = mth[i]\n",
    "    mnum = datetime.strptime(mname, '%b').month\n",
    "    month.append(mnum)\n",
    "\n",
    "for i in range(len(yr)):\n",
    "    df_overall[('Age_' + mth[i] + yr[i])]=yr1[i] - np.array(df_overall.loc[:,'Dob'])"
   ]
  },
  {
   "cell_type": "markdown",
   "id": "9e079498",
   "metadata": {},
   "source": [
    "# Clustering"
   ]
  },
  {
   "cell_type": "code",
   "execution_count": 4,
   "id": "cbb7d47d",
   "metadata": {},
   "outputs": [],
   "source": [
    "# Removing duplicates and reseting index\n",
    "metadata_columns = [\"fide_id\", \"country\", \"flag\", \"Title_nov22\", \"Dob\"]\n",
    "\n",
    "df_cluster=df_overall.iloc[:,[0,6]]\n",
    "\n",
    "df_cluster['Dob']=df_overall['Dob']\n",
    "df_cluster=df_cluster.reset_index()\n",
    "df_cluster=df_cluster.set_index([\"fide_id\", \"Dob\"])\n",
    "df_cluster5=df_cluster.dropna(subset=[\"Title_nov22\"],axis=0)\n",
    "df_cluster=df_cluster5[df_cluster5[\"Title_nov22\"].isin(['GM','Gm','gm'])]\n",
    "\n",
    "df_overall = df_overall.set_index(\"fide_id\")\n",
    "df_overall = df_overall[~df_overall.index.duplicated(keep='last')]\n",
    "bad_dob_values = ['0000', '0', '20', '40', '1900', 0, 20, 40, 1900]\n",
    "df_overall = df_overall.loc[~df_overall['Dob'].isin(bad_dob_values)]"
   ]
  },
  {
   "cell_type": "code",
   "execution_count": 5,
   "id": "5aa7ea16",
   "metadata": {},
   "outputs": [],
   "source": [
    "# Extraing Columns with ratings and Games\n",
    "rating_columns = []\n",
    "games_columns = []\n",
    "\n",
    "for col in df_overall.columns:\n",
    "    if (\"Ratings\" in col):\n",
    "        rating_columns.append(col)\n",
    "    elif (\"Games\" in col):\n",
    "        games_columns.append(col)"
   ]
  },
  {
   "cell_type": "code",
   "execution_count": 6,
   "id": "b0a8e106",
   "metadata": {},
   "outputs": [],
   "source": [
    "# Renaming columns with appropriate Months and years\n",
    "df_num_games = df_overall[[*games_columns]]\n",
    "for col in df_num_games.columns:\n",
    "    df_num_games[col] = pd.to_numeric(df_num_games[col],errors='coerce').fillna(0)\n",
    "df_ratings = df_overall[[*rating_columns]]\n",
    "for col in df_num_games.columns:\n",
    "    month = col[-5:-2].upper()\n",
    "    year = col[-2:]\n",
    "    df_num_games = df_num_games.rename(columns={col: month+\"-\"+year})\n",
    "for col in df_ratings.columns:\n",
    "    month = col[-5:-2].upper()\n",
    "    year = col[-2:]\n",
    "    df_ratings = df_ratings.rename(columns={col: month+\"-\"+year})\n",
    "timesorted_columns = sorted(list(df_num_games.columns.values), key= lambda x: datetime.strptime(x, \"%b-%y\"))\n",
    "df_num_games = df_num_games[timesorted_columns]\n"
   ]
  },
  {
   "cell_type": "code",
   "execution_count": 7,
   "id": "726e8f30",
   "metadata": {},
   "outputs": [],
   "source": [
    "# Cumulative games columns by month and Extracting info for players under age limit 12\n",
    "df_ratings = df_ratings[timesorted_columns]\n",
    "df_cumulative_games = df_num_games.cumsum(axis=1)\n",
    "df_cumulative_games = df_cumulative_games.join(df_overall[['Dob']], how=\"inner\")\n",
    "df_ratings=df_ratings.join(df_overall[['Dob']], how=\"inner\")\n",
    "df_cumulative_games = df_cumulative_games.reset_index().set_index([\"fide_id\", \"Dob\"])\n",
    "df_ratings = df_ratings.reset_index().set_index([\"fide_id\", \"Dob\"])\n",
    "df_cumulative_games['games_under_age_limit'] = pd.Series(dtype='float64')\n",
    "df_cumulative_games['rating'] = pd.Series(dtype='float64')\n",
    "age_limit = 12\n",
    "cum_games_under_age = []\n",
    "\n",
    "for idx,row in df_cumulative_games.iterrows():\n",
    "    yob = idx[1]\n",
    "    if (yob<1992 or yob>2005):\n",
    "        continue\n",
    "    else:\n",
    "        month = \"JAN\"\n",
    "        year = str(yob+age_limit+1)[-2:]\n",
    "        if (int(year)>22):\n",
    "            year=\"22\"\n",
    "        row['games_under_age_limit'] = (row[month+\"-\"+year])\n",
    "        row['rating']=  df_ratings.loc[idx,month+\"-\"+year]"
   ]
  },
  {
   "cell_type": "code",
   "execution_count": 8,
   "id": "cd4af194",
   "metadata": {},
   "outputs": [],
   "source": [
    "# Data preprocessing\n",
    "df_cumulative_games = df_cumulative_games.dropna(subset=[\"games_under_age_limit\"],axis=0)\n",
    "df_cumulative_games_filtered = df_cumulative_games.loc[df_cumulative_games['games_under_age_limit']>5]\n",
    "df_cumulative_games_filtered=df_cumulative_games_filtered.iloc[:,[-1,-2]]\n",
    "df_cumulative_games_filtered=df_cumulative_games_filtered.dropna(subset=[\"rating\"],axis=0)"
   ]
  },
  {
   "cell_type": "code",
   "execution_count": 9,
   "id": "663c44bd",
   "metadata": {},
   "outputs": [],
   "source": [
    "df_cluster = df_cluster[~df_cluster.index.duplicated(keep='last')]\n",
    "df_cluster1=df_cumulative_games_filtered.join(df_cluster['Title_nov22'],how='left')\n",
    "df_cumulative_games_filtered\n",
    "df_cluster1=df_cluster1[df_cluster1['Title_nov22'].isin(['GM','Gm','gm'])]"
   ]
  },
  {
   "cell_type": "code",
   "execution_count": 10,
   "id": "79e346bd",
   "metadata": {},
   "outputs": [
    {
     "data": {
      "image/png": "[encoded data removed]",
      "text/plain": [
       "<Figure size 432x288 with 1 Axes>"
      ]
     },
     "metadata": {},
     "output_type": "display_data"
    },
    {
     "data": {
      "text/plain": [
       "array([3, 0, 2, ..., 3, 1, 0])"
      ]
     },
     "execution_count": 10,
     "metadata": {},
     "output_type": "execute_result"
    }
   ],
   "source": [
    "# Kmeans Clustering\n",
    "from sklearn.cluster import KMeans\n",
    "ssd = []\n",
    "for i in range(1, 11): \n",
    "    kmeans = KMeans(n_clusters = i, init = 'k-means++', random_state=v)\n",
    "    kmeans.fit(df_cumulative_games_filtered) \n",
    "    ssd.append(kmeans.inertia_)\n",
    "plt.plot(range(1,11), ssd, 'bx-')\n",
    "plt.xlabel('Number of clusters')\n",
    "plt.ylabel('Sum of squared distances')\n",
    "plt.title('Elbow method for optimal number of clusters')\n",
    "plt.show()\n",
    "kmeans = KMeans(n_clusters = 4, init = \"k-means++\", random_state=v)\n",
    "y_kmeans = kmeans.fit_predict(df_cumulative_games_filtered)\n",
    "y_kmeans"
   ]
  },
  {
   "cell_type": "code",
   "execution_count": 11,
   "id": "6e60f376",
   "metadata": {},
   "outputs": [
    {
     "data": {
      "image/png": "[encoded data removed]",
      "text/plain": [
       "<Figure size 432x288 with 1 Axes>"
      ]
     },
     "metadata": {},
     "output_type": "display_data"
    }
   ],
   "source": [
    "plt.scatter(df_cumulative_games_filtered.iloc[y_kmeans == 0, 0], df_cumulative_games_filtered.iloc[y_kmeans == 0, 1], s = 60, c = 'red', label = 'Cluster 1')\n",
    "plt.scatter(df_cumulative_games_filtered.iloc[y_kmeans == 1, 0], df_cumulative_games_filtered.iloc[y_kmeans == 1, 1], s = 60, c = 'blue', label = 'Cluster 2')\n",
    "plt.scatter(df_cumulative_games_filtered.iloc[y_kmeans == 2, 0], df_cumulative_games_filtered.iloc[y_kmeans == 2, 1], s = 60, c = 'yellow', label = 'Cluster 3')\n",
    "plt.scatter(df_cumulative_games_filtered.iloc[y_kmeans == 3, 0], df_cumulative_games_filtered.iloc[y_kmeans == 3, 1], s = 60, c = 'green', label = 'Cluster 4')\n",
    "\n",
    "\n",
    "plt.scatter(kmeans.cluster_centers_[:, 0], kmeans.cluster_centers_[:, 1], s = 100, c = 'black', label = 'Centroids')\n",
    "plt.scatter(df_cluster1.iloc[:,0], df_cluster1.iloc[:,1], s=20, c='brown', label='GM')\n",
    "plt.xlabel('Ratings at age 12')\n",
    "plt.ylabel('Games at age 12')\n",
    "plt.legend()\n",
    "plt.show()"
   ]
  },
  {
   "cell_type": "code",
   "execution_count": 12,
   "id": "2bb51473",
   "metadata": {},
   "outputs": [
    {
     "name": "stdout",
     "output_type": "stream",
     "text": [
      "Number of GM in Blue Cluster = 297\n",
      "Number of GM not in Blue Cluster = 2\n"
     ]
    }
   ],
   "source": [
    "df_cumulative_games_filtered['y_means']=y_kmeans\n",
    "df_cluster2=df_cluster1.join(df_cumulative_games_filtered['y_means'], how='left')\n",
    "count1=df_cluster2['y_means'].value_counts()\n",
    "print('Number of GM in Blue Cluster = ' + str((np.array(count1))[0]))\n",
    "print('Number of GM not in Blue Cluster = ' + str((np.array(count1))[1]))"
   ]
  },
  {
   "cell_type": "markdown",
   "id": "f978f829",
   "metadata": {},
   "source": [
    "# Inference"
   ]
  },
  {
   "cell_type": "code",
   "execution_count": 13,
   "id": "4b9048b4",
   "metadata": {},
   "outputs": [
    {
     "name": "stdout",
     "output_type": "stream",
     "text": [
      "Quartile for games played till age 12 - [ 13.  24.  51. 819.]\n"
     ]
    }
   ],
   "source": [
    "quartiles = df_cumulative_games_filtered['games_under_age_limit'].quantile([0.25,0.5,0.75,1]).values\n",
    "print('Quartile for games played till age 12 - ' + str(quartiles))\n",
    "\n",
    "lower_games_fide = []\n",
    "lower_s_games_fide = []\n",
    "medium_games_fide = []\n",
    "higher_games_fide = []\n",
    "\n",
    "for idx,row in df_cumulative_games_filtered.iterrows():\n",
    "    if row['games_under_age_limit']<=quartiles[0]:\n",
    "        lower_games_fide.append(idx[0])\n",
    "    elif row['games_under_age_limit']<=quartiles[1]:\n",
    "        lower_s_games_fide.append(idx[0])\n",
    "    elif row['games_under_age_limit']<=quartiles[2]:\n",
    "        medium_games_fide.append(idx[0])\n",
    "    else:\n",
    "        higher_games_fide.append(idx[0])"
   ]
  },
  {
   "cell_type": "code",
   "execution_count": 14,
   "id": "4fde1d3b",
   "metadata": {},
   "outputs": [
    {
     "data": {
      "text/plain": [
       "(array([8.580e+02, 1.052e+03, 1.118e+03, 1.046e+03, 9.550e+02, 8.420e+02,\n",
       "        7.060e+02, 5.970e+02, 4.760e+02, 3.940e+02, 3.410e+02, 2.230e+02,\n",
       "        1.620e+02, 1.190e+02, 6.400e+01, 3.000e+01, 1.200e+01, 6.000e+00,\n",
       "        0.000e+00, 1.000e+00]),\n",
       " array([1001. , 1091.5, 1182. , 1272.5, 1363. , 1453.5, 1544. , 1634.5,\n",
       "        1725. , 1815.5, 1906. , 1996.5, 2087. , 2177.5, 2268. , 2358.5,\n",
       "        2449. , 2539.5, 2630. , 2720.5, 2811. ]),\n",
       " <BarContainer object of 20 artists>)"
      ]
     },
     "execution_count": 14,
     "metadata": {},
     "output_type": "execute_result"
    },
    {
     "data": {
      "image/png": "[encoded data removed]",
      "text/plain": [
       "<Figure size 432x288 with 1 Axes>"
      ]
     },
     "metadata": {},
     "output_type": "display_data"
    }
   ],
   "source": [
    "df_ratings.loc[lower_games_fide]['NOV-22'].mean()\n",
    "plt.hist(df_ratings.loc[lower_games_fide]['NOV-22'], bins=20)"
   ]
  },
  {
   "cell_type": "code",
   "execution_count": 15,
   "id": "43bbe947",
   "metadata": {},
   "outputs": [
    {
     "data": {
      "text/plain": [
       "(array([310., 492., 665., 734., 703., 697., 637., 609., 520., 478., 424.,\n",
       "        358., 258., 210., 147.,  94.,  56.,  50.,   9.,   9.]),\n",
       " array([1001. , 1083.8, 1166.6, 1249.4, 1332.2, 1415. , 1497.8, 1580.6,\n",
       "        1663.4, 1746.2, 1829. , 1911.8, 1994.6, 2077.4, 2160.2, 2243. ,\n",
       "        2325.8, 2408.6, 2491.4, 2574.2, 2657. ]),\n",
       " <BarContainer object of 20 artists>)"
      ]
     },
     "execution_count": 15,
     "metadata": {},
     "output_type": "execute_result"
    },
    {
     "data": {
      "image/png": "[encoded data removed]",
      "text/plain": [
       "<Figure size 432x288 with 1 Axes>"
      ]
     },
     "metadata": {},
     "output_type": "display_data"
    }
   ],
   "source": [
    "df_ratings.loc[lower_s_games_fide]['NOV-22'].mean()\n",
    "plt.hist(df_ratings.loc[lower_s_games_fide]['NOV-22'], bins=20)"
   ]
  },
  {
   "cell_type": "code",
   "execution_count": 16,
   "id": "eda60cf1",
   "metadata": {},
   "outputs": [
    {
     "data": {
      "text/plain": [
       "(array([184., 361., 461., 591., 658., 668., 674., 631., 608., 552., 491.,\n",
       "        450., 404., 306., 227., 162., 118.,  57.,  30.,  12.]),\n",
       " array([1001.  , 1083.85, 1166.7 , 1249.55, 1332.4 , 1415.25, 1498.1 ,\n",
       "        1580.95, 1663.8 , 1746.65, 1829.5 , 1912.35, 1995.2 , 2078.05,\n",
       "        2160.9 , 2243.75, 2326.6 , 2409.45, 2492.3 , 2575.15, 2658.  ]),\n",
       " <BarContainer object of 20 artists>)"
      ]
     },
     "execution_count": 16,
     "metadata": {},
     "output_type": "execute_result"
    },
    {
     "data": {
      "image/png": "[encoded data removed]",
      "text/plain": [
       "<Figure size 432x288 with 1 Axes>"
      ]
     },
     "metadata": {},
     "output_type": "display_data"
    }
   ],
   "source": [
    "df_ratings.loc[medium_games_fide]['NOV-22'].mean()\n",
    "plt.hist(df_ratings.loc[medium_games_fide]['NOV-22'], bins=20)"
   ]
  },
  {
   "cell_type": "code",
   "execution_count": 17,
   "id": "dc632211",
   "metadata": {},
   "outputs": [
    {
     "data": {
      "text/plain": [
       "(array([ 56., 106., 236., 348., 481., 566., 619., 708., 666., 688., 689.,\n",
       "        644., 595., 459., 431., 352., 198.,  95.,  57.,  17.]),\n",
       " array([1001. , 1090.2, 1179.4, 1268.6, 1357.8, 1447. , 1536.2, 1625.4,\n",
       "        1714.6, 1803.8, 1893. , 1982.2, 2071.4, 2160.6, 2249.8, 2339. ,\n",
       "        2428.2, 2517.4, 2606.6, 2695.8, 2785. ]),\n",
       " <BarContainer object of 20 artists>)"
      ]
     },
     "execution_count": 17,
     "metadata": {},
     "output_type": "execute_result"
    },
    {
     "data": {
      "image/png": "[encoded data removed]",
      "text/plain": [
       "<Figure size 432x288 with 1 Axes>"
      ]
     },
     "metadata": {},
     "output_type": "display_data"
    }
   ],
   "source": [
    "df_ratings.loc[higher_games_fide]['NOV-22'].mean()\n",
    "plt.hist(df_ratings.loc[higher_games_fide]['NOV-22'], bins=20)"
   ]
  },
  {
   "cell_type": "code",
   "execution_count": 18,
   "id": "8720abb6",
   "metadata": {},
   "outputs": [
    {
     "name": "stdout",
     "output_type": "stream",
     "text": [
      "Sample Size: 120.705\n"
     ]
    }
   ],
   "source": [
    "from statsmodels.stats.power import TTestIndPower\n",
    "# parameters for power analysis\n",
    "effect = 0.5\n",
    "alpha = 0.005\n",
    "power = 0.9\n",
    "# perform power analysis\n",
    "analysis = TTestIndPower()\n",
    "result = analysis.solve_power(effect, power=power, nobs1=None, ratio=1.0, alpha=alpha, alternative='larger')\n",
    "print('Sample Size: %.3f' % result)"
   ]
  },
  {
   "cell_type": "code",
   "execution_count": 19,
   "id": "3da7b7b6",
   "metadata": {},
   "outputs": [
    {
     "data": {
      "image/png": "[encoded data removed]",
      "text/plain": [
       "<Figure size 432x288 with 1 Axes>"
      ]
     },
     "metadata": {},
     "output_type": "display_data"
    },
    {
     "data": {
      "text/plain": [
       "Ttest_indResult(statistic=-35.3295648107622, pvalue=1.9716633965035477e-263)"
      ]
     },
     "execution_count": 19,
     "metadata": {},
     "output_type": "execute_result"
    }
   ],
   "source": [
    "plt.hist(df_ratings.loc[higher_games_fide]['NOV-22'],bins=25, label='High', alpha=0.8)\n",
    "plt.hist(df_ratings.loc[medium_games_fide]['NOV-22'],bins=25, label='Low', alpha=0.8)\n",
    "plt.show()\n",
    "stats.ttest_ind(df_ratings.loc[medium_games_fide]['NOV-22'], df_ratings.loc[higher_games_fide]['NOV-22'], alternative=\"less\", equal_var=False)"
   ]
  },
  {
   "cell_type": "code",
   "execution_count": 20,
   "id": "5e8f7833",
   "metadata": {},
   "outputs": [
    {
     "name": "stdout",
     "output_type": "stream",
     "text": [
      "Cohens d - \n",
      "0.5643555043661611\n"
     ]
    }
   ],
   "source": [
    "# Cohen's d\n",
    "\n",
    "def cohen_d(x,y):\n",
    "    nx = len(x)\n",
    "    ny = len(y)\n",
    "    dof = nx + ny - 2\n",
    "    return (np.mean(x) - np.mean(y)) / np.sqrt(((nx-1)*np.std(x, ddof=1) ** 2 + (ny-1)*np.std(y, ddof=1) ** 2) / dof)\n",
    "\n",
    "print('Cohens d - ')\n",
    "print(cohen_d(df_ratings.loc[higher_games_fide]['NOV-22'], df_ratings.loc[medium_games_fide]['NOV-22']))"
   ]
  },
  {
   "cell_type": "markdown",
   "id": "df6174e3",
   "metadata": {},
   "source": [
    "# Classification"
   ]
  },
  {
   "cell_type": "code",
   "execution_count": 21,
   "id": "50e7c695",
   "metadata": {},
   "outputs": [
    {
     "name": "stdout",
     "output_type": "stream",
     "text": [
      "3611\n",
      "142082\n"
     ]
    }
   ],
   "source": [
    "male_prof_players = df_overall.loc[(df_overall['flag']!='i') & (df_overall['flag']!='w') & (df_overall['flag']!='wi') & ((df_overall['Title_nov22']=='GM') | (df_overall['Title_nov22']=='IM'))].index.values\n",
    "print(len(male_prof_players))\n",
    "\n",
    "male_non_prof_players = df_overall.loc[(df_overall['flag']!='i') & (df_overall['flag']!='w') & (df_overall['flag']!='wi') & (df_overall['Title_nov22']!='GM') & (df_overall['Title_nov22']!='IM')].index.values\n",
    "print(len(male_non_prof_players))"
   ]
  },
  {
   "cell_type": "code",
   "execution_count": 22,
   "id": "0be09846",
   "metadata": {},
   "outputs": [],
   "source": [
    "# Extracting Ratings of professional players\n",
    "df_ratings['rating_at_age_limit'] = pd.Series(dtype='float64')\n",
    "data_dict = {}\n",
    "\n",
    "for idx, row in df_ratings.loc[male_prof_players].iterrows():\n",
    "    yob = idx[1]\n",
    "    if (yob<1990 or yob>2005):\n",
    "        continue\n",
    "    else:\n",
    "        month = \"JAN\"\n",
    "        year = str(yob+age_limit+1)[-2:]\n",
    "        if (int(year)>22):\n",
    "            year=\"22\"\n",
    "        rating_from = month+\"-\"+str(yob)[-2:]\n",
    "        if (datetime.strptime(rating_from, \"%b-%y\")<datetime.strptime(\"JAN-01\", \"%b-%y\")):\n",
    "            rating_from = \"JAN-01\"\n",
    "        rating_till = month+\"-\"+year\n",
    "        data_dict[idx[0]] = row[rating_from:rating_till]   "
   ]
  },
  {
   "cell_type": "code",
   "execution_count": 23,
   "id": "57f216fd",
   "metadata": {},
   "outputs": [],
   "source": [
    "df_ratings_gm = pd.DataFrame.from_dict(data_dict, orient='index')\n",
    "df_ratings_gm['label'] = 1"
   ]
  },
  {
   "cell_type": "code",
   "execution_count": 24,
   "id": "ed01c929",
   "metadata": {},
   "outputs": [],
   "source": [
    "# Extracting Ratings of non-professional players\n",
    "data_dict = {}\n",
    "for idx, row in df_ratings.loc[male_non_prof_players].iterrows():\n",
    "    yob = idx[1]\n",
    "    if (yob<1990 or yob>2005):\n",
    "        continue\n",
    "    else:\n",
    "        month = \"JAN\"\n",
    "        year = str(yob+age_limit+1)[-2:]\n",
    "        if (int(year)>22):\n",
    "            year=\"22\"\n",
    "        rating_from = month+\"-\"+str(yob)[-2:]\n",
    "        if (datetime.strptime(rating_from, \"%b-%y\")<datetime.strptime(\"JAN-01\", \"%b-%y\")):\n",
    "            rating_from = \"JAN-01\"\n",
    "        rating_till = month+\"-\"+year\n",
    "        data_dict[idx[0]] = row[rating_from:rating_till]"
   ]
  },
  {
   "cell_type": "code",
   "execution_count": 25,
   "id": "5f60462f",
   "metadata": {},
   "outputs": [
    {
     "data": {
      "text/plain": [
       "(1099, 120)"
      ]
     },
     "execution_count": 25,
     "metadata": {},
     "output_type": "execute_result"
    }
   ],
   "source": [
    "df_ratings_nongm = pd.DataFrame.from_dict(data_dict, orient='index')\n",
    "timesorted_columns = sorted(list(df_ratings_nongm.columns.values), key= lambda x: datetime.strptime(x, \"%b-%y\"))\n",
    "df_ratings_nongm = df_ratings_nongm[timesorted_columns]\n",
    "df_ratings_nongm['label'] = 0\n",
    "df_ratings_gm.shape"
   ]
  },
  {
   "cell_type": "code",
   "execution_count": 26,
   "id": "10a0c7ee",
   "metadata": {},
   "outputs": [],
   "source": [
    "df_cumulative_games = df_num_games.cumsum(axis=1)\n",
    "df_cumulative_games = df_cumulative_games.join(df_overall[['Dob','mean']], how=\"inner\")\n",
    "df_cumulative_games = df_cumulative_games.dropna(subset=[\"mean\"],axis=0)\n",
    "df_cumulative_games = df_cumulative_games.reset_index().set_index([\"fide_id\", \"Dob\"])"
   ]
  },
  {
   "cell_type": "code",
   "execution_count": 27,
   "id": "746b51a3",
   "metadata": {},
   "outputs": [],
   "source": [
    "# Cumulative games under age limit\n",
    "df_cumulative_games['games_under_age_limit'] = pd.Series(dtype='float64')\n",
    "age_limit = 12\n",
    "cum_games_under_age = []\n",
    "\n",
    "for idx,row in df_cumulative_games.iterrows():\n",
    "    yob = idx[1]\n",
    "    if (yob<1992 or yob>2002):\n",
    "        continue\n",
    "    else:\n",
    "        month = \"JUL\"\n",
    "        year = str(yob+age_limit+1)[-2:]\n",
    "        if (int(year)>22):\n",
    "            year=\"22\"\n",
    "        row['games_under_age_limit'] = (row[month+\"-\"+year])"
   ]
  },
  {
   "cell_type": "code",
   "execution_count": 28,
   "id": "6d288dcd",
   "metadata": {},
   "outputs": [],
   "source": [
    "# Data Processing\n",
    "df_cumulative_games=df_cumulative_games.reset_index()\n",
    "df_cumulative_games=df_cumulative_games.set_index('fide_id')\n",
    "\n",
    "df_ratings_nongm = df_ratings_nongm.sample(frac=0.2, replace=False)\n",
    "\n",
    "df_ratings_combined = pd.concat([df_ratings_gm, df_ratings_nongm], axis=0)\n",
    "\n",
    "df_ratings_combined = df_ratings_combined.dropna(axis=0, how='any', thresh=2)\n",
    "df_ratings_combined= df_ratings_combined.join(df_cumulative_games['games_under_age_limit'], how='left')"
   ]
  },
  {
   "cell_type": "code",
   "execution_count": 29,
   "id": "31622289",
   "metadata": {},
   "outputs": [],
   "source": [
    "y = df_ratings_combined['label']\n",
    "df_ratings_combined = df_ratings_combined.drop(['label'], axis=1)\n",
    "df_ratings_combined = df_ratings_combined.join(df_overall['country'], how=\"inner\")\n",
    "df_ratings_combined = pd.get_dummies(df_ratings_combined)"
   ]
  },
  {
   "cell_type": "code",
   "execution_count": 30,
   "id": "0b125c19",
   "metadata": {
    "scrolled": true
   },
   "outputs": [
    {
     "name": "stdout",
     "output_type": "stream",
     "text": [
      "              precision    recall  f1-score   support\n",
      "\n",
      "           0       0.89      0.92      0.91       148\n",
      "           1       0.84      0.80      0.82        81\n",
      "\n",
      "    accuracy                           0.88       229\n",
      "   macro avg       0.87      0.86      0.86       229\n",
      "weighted avg       0.88      0.88      0.88       229\n",
      "\n",
      "Mean score: 0.84\n",
      "Standard deviation: 0.10\n"
     ]
    }
   ],
   "source": [
    "# Kmeans Clustering\n",
    "from sklearn.model_selection import train_test_split\n",
    "\n",
    "X_train, X_test, y_train, y_test = train_test_split(df_ratings_combined, y, test_size=0.1, random_state=v)\n",
    "\n",
    "from sklearn.ensemble import HistGradientBoostingClassifier\n",
    "\n",
    "clf = HistGradientBoostingClassifier().fit(X_train, y_train)\n",
    "\n",
    "from sklearn.metrics import f1_score\n",
    "from sklearn.metrics import classification_report\n",
    "\n",
    "y_pred = clf.predict(X_test)\n",
    "print(classification_report(y_test, y_pred))\n",
    "\n",
    "from sklearn.model_selection import cross_val_score\n",
    "\n",
    "# Use cross-validation to evaluate the model\n",
    "scores = cross_val_score(clf, df_ratings_combined, y, cv=10)\n",
    "\n",
    "# Print the mean and standard deviation of the scores\n",
    "print(f'Mean score: {scores.mean():.2f}')\n",
    "print(f'Standard deviation: {scores.std():.2f}')\n",
    "\n",
    "y_probs = clf.predict_proba(X_test)[:, 1]"
   ]
  },
  {
   "cell_type": "code",
   "execution_count": 31,
   "id": "78b41d4b",
   "metadata": {},
   "outputs": [
    {
     "data": {
      "image/png": "[encoded data removed]",
      "text/plain": [
       "<Figure size 432x288 with 2 Axes>"
      ]
     },
     "metadata": {},
     "output_type": "display_data"
    }
   ],
   "source": [
    "# Confusion matrix report\n",
    "from sklearn.metrics import plot_confusion_matrix\n",
    "\n",
    "fig = plot_confusion_matrix(clf, X_test, y_test, cmap=plt.cm.Blues, normalize='true')\n",
    "fig.ax_.set_title('Confusion Matrix' + '\\n' +  '0-Non-Professionals 1-Professionals')\n",
    "plt.show()"
   ]
  },
  {
   "cell_type": "code",
   "execution_count": 32,
   "id": "642eb7ec",
   "metadata": {},
   "outputs": [
    {
     "data": {
      "image/png": "[encoded data removed]",
      "text/plain": [
       "<Figure size 432x288 with 1 Axes>"
      ]
     },
     "metadata": {},
     "output_type": "display_data"
    },
    {
     "name": "stdout",
     "output_type": "stream",
     "text": [
      "    Area under PR Curve is:  0.8966913783435957\n"
     ]
    }
   ],
   "source": [
    "# Precision recall Curve\n",
    "\n",
    "from sklearn.metrics import precision_recall_curve, auc\n",
    "\n",
    "precision, recall, thresholds = precision_recall_curve(y_test, y_probs)\n",
    "\n",
    "# Plot the precision-recall curve\n",
    "plt.plot(recall, precision)\n",
    "neg=y_test.value_counts(ascending = True).iloc[0]\n",
    "pos=y_test.value_counts(ascending = True).iloc[1]\n",
    "plt.axhline(y=pos/(pos+neg), color='r', linestyle='--')\n",
    "plt.xlabel('Recall')\n",
    "plt.ylabel('Precision')\n",
    "plt.title('Precision-Recall Curve')\n",
    "plt.show()\n",
    "print(\"    Area under PR Curve is: \", auc(recall, precision))"
   ]
  },
  {
   "cell_type": "code",
   "execution_count": 33,
   "id": "a5115a28",
   "metadata": {},
   "outputs": [
    {
     "data": {
      "image/png": "[encoded data removed]",
      "text/plain": [
       "<Figure size 432x288 with 1 Axes>"
      ]
     },
     "metadata": {},
     "output_type": "display_data"
    },
    {
     "name": "stdout",
     "output_type": "stream",
     "text": [
      "    Area under ROC Curve (AUROC):  0.9421921921921922\n"
     ]
    }
   ],
   "source": [
    "# ROC Curve\n",
    "from sklearn.metrics import roc_curve\n",
    "\n",
    "fpr, tpr, thresholds = roc_curve(y_test, y_probs)\n",
    "\n",
    "# Plot the ROC curve\n",
    "plt.plot(fpr, tpr)\n",
    "aa=np.linspace(0.0, 1.0, 100)\n",
    "plt.plot(aa, aa, 'r--')\n",
    "plt.xlabel('False Positive Rate')\n",
    "plt.ylabel('True Positive Rate')\n",
    "plt.title('ROC Curve')\n",
    "plt.show()\n",
    "print(\"    Area under ROC Curve (AUROC): \", auc(fpr, tpr))"
   ]
  },
  {
   "cell_type": "markdown",
   "id": "29dadc8b",
   "metadata": {},
   "source": [
    "# Prediction"
   ]
  },
  {
   "cell_type": "code",
   "execution_count": 34,
   "id": "55149bc3",
   "metadata": {},
   "outputs": [],
   "source": [
    "# Data Prep\n",
    "df_ratings_combined = pd.concat([df_ratings_gm, df_ratings_nongm], axis=0)\n",
    "df_ratings_combined = df_ratings_combined.join(df_overall[['country', 'Dob']], how=\"inner\")"
   ]
  },
  {
   "cell_type": "code",
   "execution_count": 35,
   "id": "0eee6ab2",
   "metadata": {},
   "outputs": [],
   "source": [
    "df_ratings_combined = df_ratings_combined.dropna(axis=0, how='any', thresh=2)\n",
    "df_ratings_combined = df_ratings_combined.join(df_cumulative_games['NOV-22'], how=\"inner\")\n",
    "df_ratings_combined['Dob'] = df_ratings_combined['Dob'].astype('object')\n",
    "df_ratings_combined = pd.get_dummies(df_ratings_combined)"
   ]
  },
  {
   "cell_type": "code",
   "execution_count": 36,
   "id": "8aab13dd",
   "metadata": {},
   "outputs": [],
   "source": [
    "y = df_ratings.loc[df_ratings_combined.loc[df_ratings_combined.label==1].index]['NOV-22'].values\n",
    "df_ratings_combined = df_ratings_combined.loc[df_ratings_combined.label==1]\n",
    "df_ratings_combined = df_ratings_combined.drop(\"label\", axis=1)"
   ]
  },
  {
   "cell_type": "code",
   "execution_count": 37,
   "id": "704b6a73",
   "metadata": {},
   "outputs": [],
   "source": [
    "df_ratings_combined = df_ratings_combined.fillna(method='pad', axis=1)\n",
    "df_ratings_combined = df_ratings_combined.fillna(method='bfill', axis=1)"
   ]
  },
  {
   "cell_type": "code",
   "execution_count": 38,
   "id": "c44a9f09",
   "metadata": {},
   "outputs": [],
   "source": [
    "# Train Test Split\n",
    "X_train, X_test, y_train, y_test = train_test_split(df_ratings_combined, y, test_size=0.2, random_state=v)"
   ]
  },
  {
   "cell_type": "code",
   "execution_count": 63,
   "id": "671cbc72",
   "metadata": {},
   "outputs": [
    {
     "data": {
      "text/plain": [
       "RandomizedSearchCV(estimator=RandomForestRegressor(),\n",
       "                   param_distributions={'max_depth': <scipy.stats._distn_infrastructure.rv_frozen object at 0x000002780EACD700>,\n",
       "                                        'min_samples_split': <scipy.stats._distn_infrastructure.rv_frozen object at 0x000002780BCD2370>,\n",
       "                                        'n_estimators': <scipy.stats._distn_infrastructure.rv_frozen object at 0x000002780E941100>})"
      ]
     },
     "execution_count": 63,
     "metadata": {},
     "output_type": "execute_result"
    }
   ],
   "source": [
    "# Random Forest regressor\n",
    "\n",
    "parameters = {'n_estimators': randint(100,1000),\n",
    "              'max_depth'    : randint(50,200),\n",
    "              'min_samples_split': uniform(0,1)\n",
    "             }\n",
    "\n",
    "\n",
    "clf = RandomForestRegressor()\n",
    "randm_src = RandomizedSearchCV(clf, parameters, n_iter=10)\n",
    "randm_src.fit(X_train,y_train)"
   ]
  },
  {
   "cell_type": "code",
   "execution_count": 64,
   "id": "b40f813c",
   "metadata": {},
   "outputs": [
    {
     "data": {
      "text/plain": [
       "RandomForestRegressor(max_depth=175, min_samples_split=0.261748338263016,\n",
       "                      n_estimators=547)"
      ]
     },
     "execution_count": 64,
     "metadata": {},
     "output_type": "execute_result"
    }
   ],
   "source": [
    "randm_src.best_estimator_"
   ]
  },
  {
   "cell_type": "code",
   "execution_count": 40,
   "id": "6d940cbf",
   "metadata": {},
   "outputs": [
    {
     "name": "stdout",
     "output_type": "stream",
     "text": [
      "Feature importance of all rating columns:  0.8883813237191907\n",
      "Feature importance of all country columns:  0.10319233607183308\n"
     ]
    }
   ],
   "source": [
    "cval = []\n",
    "for idx,val in enumerate(df_ratings_combined.columns.values):\n",
    "    if (\"country\" in val):\n",
    "         cval.append(idx)\n",
    "            \n",
    "            \n",
    "print(\"Feature importance of all rating columns: \", sum(randm_src.best_estimator_.feature_importances_[:120]))\n",
    "print(\"Feature importance of all country columns: \", sum(randm_src.best_estimator_.feature_importances_[cval]))"
   ]
  },
  {
   "cell_type": "code",
   "execution_count": 41,
   "id": "eddc79a0",
   "metadata": {},
   "outputs": [
    {
     "name": "stdout",
     "output_type": "stream",
     "text": [
      "92.15651354600271\n",
      "0.027432585883528874\n"
     ]
    }
   ],
   "source": [
    "y_pred = randm_src.predict(X_test)\n",
    "print(mean_squared_error(y_test, y_pred, squared=False))\n",
    "print(mean_absolute_percentage_error(y_test, y_pred))"
   ]
  },
  {
   "cell_type": "code",
   "execution_count": 42,
   "id": "a6290a1c",
   "metadata": {},
   "outputs": [
    {
     "data": {
      "text/plain": [
       "[]"
      ]
     },
     "execution_count": 42,
     "metadata": {},
     "output_type": "execute_result"
    },
    {
     "data": {
      "image/png": "[encoded data removed]",
      "text/plain": [
       "<Figure size 432x288 with 1 Axes>"
      ]
     },
     "metadata": {},
     "output_type": "display_data"
    }
   ],
   "source": [
    "plt.scatter(y_pred, y_test)\n",
    "plt.xlabel(\"Predicted ELO Rating\")\n",
    "plt.ylabel(\"Actual ELO Rating\")\n",
    "plt.plot(np.linspace(2300, 2700, 500), np.linspace(2300, 2700, 500), label=\"x=y line\", ls=\"--\", color=\"r\")\n",
    "plt.legend()\n",
    "plt.plot()"
   ]
  },
  {
   "cell_type": "code",
   "execution_count": 51,
   "id": "d87e11cb",
   "metadata": {},
   "outputs": [
    {
     "data": {
      "text/plain": [
       "HistGradientBoostingRegressor()"
      ]
     },
     "execution_count": 51,
     "metadata": {},
     "output_type": "execute_result"
    }
   ],
   "source": [
    "# Hist Gradient boosting regressor\n",
    "\n",
    "randm_src = HistGradientBoostingRegressor()\n",
    "randm_src.fit(X_train,y_train)"
   ]
  },
  {
   "cell_type": "code",
   "execution_count": 52,
   "id": "cc038d3f",
   "metadata": {},
   "outputs": [
    {
     "name": "stdout",
     "output_type": "stream",
     "text": [
      "102.7616367988206\n",
      "0.032055313773039384\n"
     ]
    }
   ],
   "source": [
    "y_pred = randm_src.predict(X_test)\n",
    "print(mean_squared_error(y_test, y_pred, squared=False))\n",
    "print(mean_absolute_percentage_error(y_test, y_pred))"
   ]
  },
  {
   "cell_type": "markdown",
   "id": "79223338",
   "metadata": {},
   "source": [
    "# Extra Credit"
   ]
  },
  {
   "cell_type": "code",
   "execution_count": 43,
   "id": "138b7b86",
   "metadata": {},
   "outputs": [],
   "source": [
    "\n",
    "df_ratings_gm = df_ratings_gm.drop('label', axis=1)\n",
    "df_ratings_prof = df_ratings.loc[df_ratings_gm.index]"
   ]
  },
  {
   "cell_type": "code",
   "execution_count": 44,
   "id": "02c53f9a",
   "metadata": {},
   "outputs": [],
   "source": [
    "peaking_age = []\n",
    "for idx, row in df_ratings_prof.iterrows():\n",
    "    peak_year = datetime.strptime(df_ratings_prof.columns[np.argmax(row)], \"%b-%y\")\n",
    "    diff = (peak_year - datetime.strptime(str(idx[1]), \"%Y\"))\n",
    "    peaking_age.append(diff.days/365)"
   ]
  },
  {
   "cell_type": "code",
   "execution_count": 45,
   "id": "e1720269",
   "metadata": {},
   "outputs": [
    {
     "data": {
      "text/plain": [
       "Text(0, 0.5, 'Frequency')"
      ]
     },
     "execution_count": 45,
     "metadata": {},
     "output_type": "execute_result"
    },
    {
     "data": {
      "image/png": "[encoded data removed]",
      "text/plain": [
       "<Figure size 432x288 with 1 Axes>"
      ]
     },
     "metadata": {},
     "output_type": "display_data"
    }
   ],
   "source": [
    "plt.hist(peaking_age)\n",
    "plt.xlabel(\"Age Peaked\")\n",
    "plt.ylabel(\"Frequency\")"
   ]
  },
  {
   "cell_type": "code",
   "execution_count": 46,
   "id": "5c91913b",
   "metadata": {},
   "outputs": [
    {
     "name": "stdout",
     "output_type": "stream",
     "text": [
      "Mean= 23.076433121019107\n"
     ]
    }
   ],
   "source": [
    "print('Mean= ' + str(np.mean(peaking_age)))"
   ]
  }
 ],
 "metadata": {
  "kernelspec": {
   "display_name": "Python 3 (ipykernel)",
   "language": "python",
   "name": "python3"
  },
  "language_info": {
   "codemirror_mode": {
    "name": "ipython",
    "version": 3
   },
   "file_extension": ".py",
   "mimetype": "text/x-python",
   "name": "python",
   "nbconvert_exporter": "python",
   "pygments_lexer": "ipython3",
   "version": "3.9.12"
  }
 },
 "nbformat": 4,
 "nbformat_minor": 5
}
